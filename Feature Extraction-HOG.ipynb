{
 "cells": [
  {
   "cell_type": "code",
   "execution_count": 9,
   "id": "ceda7efc",
   "metadata": {},
   "outputs": [],
   "source": [
    "import csv\n",
    "import cv2\n",
    "import sys\n",
    "import numpy as np\n",
    "from sklearn.decomposition import PCA\n",
    "import os\n",
    "from os import path\n",
    "import sys\n",
    "import numpy as np"
   ]
  },
  {
   "cell_type": "code",
   "execution_count": 10,
   "id": "6c1090a1",
   "metadata": {},
   "outputs": [],
   "source": [
    "hog = cv2.HOGDescriptor()"
   ]
  },
  {
   "cell_type": "code",
   "execution_count": 15,
   "id": "770f5427",
   "metadata": {},
   "outputs": [],
   "source": [
    "# DECLARE PARAMETER\n",
    "NUM_FEATURES = 100  # this is the number of features to be extracted to a the csv file"
   ]
  },
  {
   "cell_type": "code",
   "execution_count": 16,
   "id": "09c3558b",
   "metadata": {},
   "outputs": [],
   "source": [
    "# Declare empty container to hold extracted category\n",
    "category = []"
   ]
  },
  {
   "cell_type": "code",
   "execution_count": 17,
   "id": "b34b061c",
   "metadata": {},
   "outputs": [],
   "source": [
    "# Declare empty container to hold extracted features\n",
    "hogArray = []"
   ]
  },
  {
   "cell_type": "code",
   "execution_count": 18,
   "id": "e8885352",
   "metadata": {},
   "outputs": [
    {
     "name": "stdout",
     "output_type": "stream",
     "text": [
      "Done Extracting Features\n"
     ]
    }
   ],
   "source": [
    "# Loop through the dataset folder to fetch category folder\n",
    "for folder in os.listdir(\"dataset/\"):\n",
    "\n",
    "    if(folder == \".DS_Store\"):\n",
    "        continue\n",
    "\n",
    "    # Loop through each category\n",
    "    for filename in os.listdir(path.join(\"dataset\", folder)):\n",
    "\n",
    "        # Select images which are png and jpg only\n",
    "        if (filename[-3:] == \"png\" or filename[-3:] == \"jpg\"):\n",
    "\n",
    "            # Get full image by joining\n",
    "            # all the path to the image\n",
    "            image = path.join(\"dataset\", folder, filename)\n",
    "\n",
    "            # Use open cv to read the image\n",
    "            img = cv2.imread(image)\n",
    "\n",
    "            # Resize the image to (64, 128)\n",
    "            # Default for hog\n",
    "            resized = cv2.resize(img, (64, 128), interpolation=cv2.INTER_AREA)\n",
    "\n",
    "            # Compute the Hog Features\n",
    "            h = hog.compute(resized)\n",
    "\n",
    "            # Transpose the result from a vector to an array\n",
    "            hogImage = h.T\n",
    "\n",
    "            # append the category of the\n",
    "            # image to a category container\n",
    "            if folder == \"Glaucoma\":\n",
    "                category.append(1) #1 --> Glaucoma\n",
    "            else:\n",
    "                category.append(0) #0 --> Non-Glaucoma\n",
    "            \n",
    "\n",
    "            # append the extracted features of\n",
    "            # the image to a category container\n",
    "            hogArray.append(hogImage)\n",
    "\n",
    "\n",
    "# convert the extracted features\n",
    "# from array to vector\n",
    "hogArray_np = np.array(hogArray)\n",
    "\n",
    "# Reshaped the Features to the acurrate size\n",
    "reshaped_hog_Array = np.reshape(\n",
    "    hogArray_np, (hogArray_np.shape[0], hogArray_np.shape[2]))\n",
    "\n",
    "\n",
    "# setup PCA for dimensionality reduction\n",
    "pca = PCA(n_components=NUM_FEATURES)\n",
    "reduced_features = pca.fit_transform(reshaped_hog_Array)\n",
    "features = reduced_features.tolist()\n",
    "\n",
    "# Create a container to hold data to be saved into csv\n",
    "csvData = []\n",
    "for id, line in enumerate(features):\n",
    "    newImg = line\n",
    "\n",
    "    # Prepend the category of each image to\n",
    "    # the begining of the features\n",
    "    newImg.insert(0, category[id])\n",
    "    csvData.append(newImg)\n",
    "\n",
    "\n",
    "# Save the csv file\n",
    "filename = str(NUM_FEATURES) + '_extracted_features.csv'\n",
    "with open(filename, 'w') as csvFile:\n",
    "    writer = csv.writer(csvFile)\n",
    "    writer.writerows(csvData)\n",
    "\n",
    "csvFile.close()\n",
    "\n",
    "print(\"Done Extracting Features\")"
   ]
  },
  {
   "cell_type": "code",
   "execution_count": null,
   "id": "b8ffcd9b",
   "metadata": {},
   "outputs": [],
   "source": []
  }
 ],
 "metadata": {
  "kernelspec": {
   "display_name": "Python 3",
   "language": "python",
   "name": "python3"
  },
  "language_info": {
   "codemirror_mode": {
    "name": "ipython",
    "version": 3
   },
   "file_extension": ".py",
   "mimetype": "text/x-python",
   "name": "python",
   "nbconvert_exporter": "python",
   "pygments_lexer": "ipython3",
   "version": "3.6.13"
  }
 },
 "nbformat": 4,
 "nbformat_minor": 5
}
